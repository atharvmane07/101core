{
  "cells": [
    {
      "cell_type": "markdown",
      "metadata": {
        "id": "view-in-github",
        "colab_type": "text"
      },
      "source": [
        "<a href=\"https://colab.research.google.com/github/atharvmane07/101core_21BCE1580_atharvmane/blob/main/notebook.ipynb\" target=\"_parent\"><img src=\"https://colab.research.google.com/assets/colab-badge.svg\" alt=\"Open In Colab\"/></a>"
      ]
    },
    {
      "metadata": {
        "dc": {
          "key": "3"
        },
        "deletable": false,
        "editable": false,
        "run_control": {
          "frozen": true
        },
        "tags": [
          "context"
        ],
        "id": "K1Go9hBHeEwG"
      },
      "cell_type": "markdown",
      "source": [
        "## 1. Searching for gold inside HTML files\n",
        "<p>It used to take days for financial news to spread via radio, newspapers, and word of mouth. Now, in the age of the internet, it takes seconds. Did you know news articles are <em>automatically</em> being generated from figures and earnings call streams? Hedge funds and independent traders are using data science to process this wealth of information in the quest for profit.</p>\n",
        "<p>In this notebook, we will generate investing insight by applying <a href=\"https://en.wikipedia.org/wiki/Sentiment_analysis\">sentiment analysis</a> on financial news headlines from <a href=\"https://finviz.com\">FINVIZ.com</a>. Using this <a href=\"https://en.wikipedia.org/wiki/Natural_language_processing\">natural language processing</a> technique, we can understand the emotion behind the headlines and predict whether the market <em>feels</em> good or bad about a stock. It would then be possible to make educated guesses on how certain stocks will perform and trade accordingly. (And hopefully, make money!)</p>\n",
        "<p><img src=\"images/fb_headlines.png\" alt=\"Facebook headlines from FINVIZ.com\"></p>\n",
        "<p>Why headlines? And why from FINVIZ?</p>\n",
        "<ol>\n",
        "<li>Headlines, which have similar length, are easier to parse and group than full articles, which vary in length.</li>\n",
        "<li>FINVIZ has a list of trusted websites, and headlines from these sites tend to be more consistent in their jargon than those from independent bloggers. Consistent textual patterns will improve the sentiment analysis.</li>\n",
        "</ol>\n",
        "<p>As <a href=\"https://en.wikipedia.org/wiki/Web_scraping\">web scraping</a> requires data science ethics (sending a lot of traffic to a FINVIZ's servers isn't very nice), the HTML files for Facebook and Tesla at various points in time have been downloaded. Let's import these files into memory.</p>\n",
        "<p><strong>Disclaimer: Investing in the stock market involves risk and can lead to monetary loss. The content in this notebook is not to be taken as financial advice.</strong> </p>"
      ]
    },
    {
      "metadata": {
        "dc": {
          "key": "3"
        },
        "tags": [
          "sample_code"
        ],
        "trusted": true,
        "collapsed": true,
        "id": "2zdQhs7QeEwJ"
      },
      "cell_type": "code",
      "source": [
        "# Import libraries\n",
        "from bs4 import BeautifulSoup\n",
        "import os\n",
        "\n",
        "html_tables = {}\n",
        "\n",
        "# For every file in the datasets folder...\n",
        "for file_name in os.listdir('/content/datasets'):\n",
        "    # Create the full path to the file\n",
        "    file_path = os.path.join('/content/datasets', file_name)\n",
        "\n",
        "    # Check if the file is a regular file (not a directory)\n",
        "    if os.path.isfile(file_path):\n",
        "        # Open the file in read-only mode\n",
        "        with open(file_path, 'r') as file:\n",
        "            # Read the contents of the file into 'html'\n",
        "            html = BeautifulSoup(file)\n",
        "            # Find 'news-table' in the Soup and load it into 'html_table'\n",
        "            html_table = html.find(id='news-table')\n",
        "            # Add the table to our dictionary\n",
        "            html_tables[file_name] = html_table\n"
      ],
      "execution_count": 7,
      "outputs": []
    },
    {
      "metadata": {
        "dc": {
          "key": "10"
        },
        "deletable": false,
        "editable": false,
        "run_control": {
          "frozen": true
        },
        "tags": [
          "context"
        ],
        "id": "kNaLQFD1eEwK"
      },
      "cell_type": "markdown",
      "source": [
        "## 2. What is inside those files anyway?\n",
        "<p>We've grabbed the table that contains the headlines from each stock's HTML file, but before we start parsing those tables further, we need to understand how the data in that table is structured. We have a few options for this:</p>\n",
        "<ul>\n",
        "<li>Open the HTML file with a text editor (preferably one with syntax highlighting, like <a href=\"http://www.sublimetext.com/\">Sublime Text</a>) and explore it there</li>\n",
        "<li>Use your browser's <a href=\"https://addons.mozilla.org/en-US/firefox/addon/web-developer/\">webdev toolkit</a> to explore the HTML</li>\n",
        "<li>Explore the headlines table here in this notebook!</li>\n",
        "</ul>\n",
        "<p>Let's do the third option.</p>"
      ]
    },
    {
      "metadata": {
        "dc": {
          "key": "10"
        },
        "tags": [
          "sample_code"
        ],
        "trusted": true,
        "colab": {
          "base_uri": "https://localhost:8080/"
        },
        "id": "IuPL-CnHeEwL",
        "outputId": "d1d9a1b3-8ba4-477b-92a3-861fe5097fbe"
      },
      "cell_type": "code",
      "source": [
        "# Check if the key 'tsla_22sep.html' exists in the html_tables dictionary\n",
        "if 'tsla_22sep.html' in html_tables:\n",
        "    # Read one single day of headlines\n",
        "    tsla = html_tables['tsla_22sep.html']\n",
        "    # Get all the table rows tagged in HTML with <tr> into 'tesla_tr'\n",
        "    tsla_tr = tsla.findAll('tr')\n",
        "\n",
        "    # For each row...\n",
        "    for i, table_row in enumerate(tsla_tr):\n",
        "        # Read the text of the element 'a' into 'link_text'\n",
        "        link_text = table_row.a.get_text()\n",
        "        # Read the text of the element 'td' into 'data_text'\n",
        "        data_text = table_row.td.get_text()\n",
        "        # Print the count\n",
        "        print(f'File number {i+1}:')\n",
        "        # Print the contents of 'link_text' and 'data_text'\n",
        "        print(link_text)\n",
        "        print(data_text)\n",
        "        # The following exits the loop after four rows to prevent spamming the notebook, do not touch\n",
        "        if i == 3:\n",
        "            break\n",
        "else:\n",
        "    print(\"Error: 'tsla_22sep.html' not found in html_tables dictionary.\")\n"
      ],
      "execution_count": 8,
      "outputs": [
        {
          "output_type": "stream",
          "name": "stdout",
          "text": [
            "File number 1:\n",
            "Billionaire investor questions Elon Musk getting 'a pass' after bombshell tweets\n",
            "Sep-21-18 09:56PM  \n",
            "File number 2:\n",
            "Broadcoms Stock Looks Like a Winner\n",
            "09:30PM  \n",
            "File number 3:\n",
            "SHAREHOLDER ALERT:  Pomerantz Law Firm Reminds Shareholders with Losses on their Investment in Tesla, Inc. of Class Action Lawsuit and Upcoming Deadline  TSLA\n",
            "05:30PM  \n",
            "File number 4:\n",
            "Tesla's People Problem and the Inscrutable Musk: 2 Things That Make You Go Hmmm\n",
            "05:30PM  \n"
          ]
        }
      ]
    },
    {
      "metadata": {
        "dc": {
          "key": "17"
        },
        "deletable": false,
        "editable": false,
        "run_control": {
          "frozen": true
        },
        "tags": [
          "context"
        ],
        "id": "VgY9LhtpeEwM"
      },
      "cell_type": "markdown",
      "source": [
        "## 3. Extra, extra! Extract the news headlines\n",
        "<p>As we saw above, the interesting data inside each table row (<code>&lt;tr&gt;</code>) is in the text inside the <code>&lt;td&gt;</code> and <code>&lt;a&gt;</code> tags. Let's now actually parse the data for <strong>all</strong> tables in a comfortable data structure.</p>"
      ]
    },
    {
      "metadata": {
        "dc": {
          "key": "17"
        },
        "tags": [
          "sample_code"
        ],
        "trusted": true,
        "collapsed": true,
        "id": "wTw272KReEwM"
      },
      "cell_type": "code",
      "source": [
        "# Hold the parsed news into a list\n",
        "parsed_news = []\n",
        "# Iterate through the news\n",
        "for file_name, news_table in html_tables.items():\n",
        "    # Iterate through all tr tags in 'news_table'\n",
        "    for x in news_table.findAll('tr'):\n",
        "        # Read the text from the tr tag into text\n",
        "        text = x.get_text()\n",
        "        # Split the text in the td tag into a list\n",
        "        date_scrape = x.td.text.split()\n",
        "        # If the length of 'date_scrape' is 1, load 'time' as the only element\n",
        "        # If not, load 'date' as the 1st element and 'time' as the second\n",
        "        if len(date_scrape) == 1:\n",
        "            time = date_scrape[0]\n",
        "        else:\n",
        "            date = date_scrape[0]\n",
        "            time = date_scrape[1]\n",
        "\n",
        "        # Extract the ticker from the file name, get the string up to the 1st '_'\n",
        "        ticker = file_name.split(\"_\")[0]\n",
        "        # Append ticker, date, time and headline as a list to the 'parsed_news' list\n",
        "        parsed_news.append([ticker, date, time, x.a.text])"
      ],
      "execution_count": 9,
      "outputs": []
    },
    {
      "metadata": {
        "dc": {
          "key": "24"
        },
        "deletable": false,
        "editable": false,
        "run_control": {
          "frozen": true
        },
        "tags": [
          "context"
        ],
        "id": "g69dpnXBeEwM"
      },
      "cell_type": "markdown",
      "source": [
        "## 4. Make NLTK think like a financial journalist\n",
        "<p>Sentiment analysis is very sensitive to context. As an example, saying <em>\"This is so addictive!\"</em> often means something positive if the context is a video game you are enjoying with your friends, but it very often means something negative when we are talking about opioids. Remember that the reason we chose headlines is so we can try to extract sentiment from financial journalists, who like most professionals, have their own lingo. Let's now make NLTK think like a financial journalist by adding some new words and sentiment values to our lexicon.</p>"
      ]
    },
    {
      "metadata": {
        "dc": {
          "key": "24"
        },
        "tags": [
          "sample_code"
        ],
        "trusted": true,
        "colab": {
          "base_uri": "https://localhost:8080/"
        },
        "id": "0wMQbLBGeEwM",
        "outputId": "91070566-25d1-4929-8008-9b8575438101"
      },
      "cell_type": "code",
      "source": [
        "# Import the necessary NLTK module and download the vader_lexicon resource\n",
        "import nltk\n",
        "nltk.download('vader_lexicon')\n",
        "\n",
        "# Import the SentimentIntensityAnalyzer from NLTK VADER\n",
        "from nltk.sentiment.vader import SentimentIntensityAnalyzer\n",
        "\n",
        "# New words and values\n",
        "new_words = {\n",
        "    'crushes': 10,\n",
        "    'beats': 5,\n",
        "    'misses': -5,\n",
        "    'trouble': -10,\n",
        "    'falls': -100,\n",
        "}\n",
        "\n",
        "# Instantiate the sentiment intensity analyzer with the updated lexicon\n",
        "vader = SentimentIntensityAnalyzer()\n",
        "\n",
        "# Update the lexicon\n",
        "vader.lexicon.update(new_words)\n"
      ],
      "execution_count": 11,
      "outputs": [
        {
          "output_type": "stream",
          "name": "stderr",
          "text": [
            "[nltk_data] Downloading package vader_lexicon to /root/nltk_data...\n"
          ]
        }
      ]
    },
    {
      "metadata": {
        "dc": {
          "key": "31"
        },
        "deletable": false,
        "editable": false,
        "run_control": {
          "frozen": true
        },
        "tags": [
          "context"
        ],
        "id": "TrK7j73CeEwM"
      },
      "cell_type": "markdown",
      "source": [
        "## 5. BREAKING NEWS: NLTK Crushes Sentiment Estimates\n",
        "<p>Now that we have the data and the algorithm loaded, we will get to the core of the matter: programmatically predicting sentiment out of news headlines! Luckily for us, VADER is very high level so, in this case, we will not adjust the model further<sup>*</sup> other than the lexicon additions from before.</p>\n",
        "<p><sup>*</sup>VADER \"out-of-the-box\" with some extra lexicon would likely translate into <strong>heavy losses</strong> with real money. A real sentiment analysis tool with chances of being profitable will require a very extensive and dedicated to finance news lexicon. Furthermore, it might also not be enough using a pre-packaged model like VADER.</p>"
      ]
    },
    {
      "metadata": {
        "dc": {
          "key": "31"
        },
        "tags": [
          "sample_code"
        ],
        "trusted": true,
        "id": "K3CwKj_7eEwN"
      },
      "cell_type": "code",
      "source": [
        "import pandas as pd\n",
        "\n",
        "# Use these column names\n",
        "columns = ['ticker', 'date', 'time', 'headline']\n",
        "\n",
        "# Convert the list of lists into a DataFrame\n",
        "scored_news = pd.DataFrame(parsed_news, columns=columns)\n",
        "\n",
        "# Iterate through the headlines and get the polarity scores\n",
        "scores = [vader.polarity_scores(head) for head in scored_news.headline]\n",
        "\n",
        "# Convert the list of dicts into a DataFrame\n",
        "scores_df = pd.DataFrame(scores)\n",
        "\n",
        "# Join the DataFrames\n",
        "scored_news = scored_news.join(scores_df)\n",
        "\n",
        "# Convert the date column from string to datetime\n",
        "scored_news['date'] = pd.to_datetime(scored_news.date).dt.date"
      ],
      "execution_count": 12,
      "outputs": []
    },
    {
      "metadata": {
        "dc": {
          "key": "38"
        },
        "deletable": false,
        "editable": false,
        "run_control": {
          "frozen": true
        },
        "tags": [
          "context"
        ],
        "id": "mcjYM50reEwN"
      },
      "cell_type": "markdown",
      "source": [
        "## 6. Plot all the sentiment in subplots\n",
        "<p>Now that we have the scores, let's start plotting the results. We will start by plotting the time series for the stocks we have.</p>"
      ]
    },
    {
      "metadata": {
        "dc": {
          "key": "38"
        },
        "tags": [
          "sample_code"
        ],
        "trusted": true,
        "colab": {
          "base_uri": "https://localhost:8080/",
          "height": 724
        },
        "id": "Y2yacKG1eEwN",
        "outputId": "59cf2ede-76e9-477f-ed69-75aae71e50c2"
      },
      "cell_type": "code",
      "source": [
        "import matplotlib.pyplot as plt\n",
        "plt.style.use(\"fivethirtyeight\")\n",
        "%matplotlib inline\n",
        "\n",
        "# Group by date and ticker columns from scored_news and calculate the mean\n",
        "mean_c = scored_news.groupby(['date', 'ticker']).mean();\n",
        "\n",
        "# Unstack the column ticker\n",
        "mean_c = mean_c.unstack('ticker');\n",
        "\n",
        "# Get the cross-section of compound in the 'columns' axis\n",
        "mean_c = mean_c.xs('compound', axis='columns');\n",
        "\n",
        "# Plot a bar chart with pandas\n",
        "mean_c.plot.bar(figsize = (10, 6));"
      ],
      "execution_count": 13,
      "outputs": [
        {
          "output_type": "stream",
          "name": "stderr",
          "text": [
            "<ipython-input-13-60e1c49880e0>:6: FutureWarning: The default value of numeric_only in DataFrameGroupBy.mean is deprecated. In a future version, numeric_only will default to False. Either specify numeric_only or select only columns which should be valid for the function.\n",
            "  mean_c = scored_news.groupby(['date', 'ticker']).mean();\n"
          ]
        },
        {
          "output_type": "display_data",
          "data": {
            "text/plain": [
              "<Figure size 1000x600 with 1 Axes>"
            ],
            "image/png": "[encoded data removed]"
          },
          "metadata": {}
        }
      ]
    },
    {
      "metadata": {
        "dc": {
          "key": "45"
        },
        "deletable": false,
        "editable": false,
        "run_control": {
          "frozen": true
        },
        "tags": [
          "context"
        ],
        "id": "jC7L_FIieEwN"
      },
      "cell_type": "markdown",
      "source": [
        "## 7. Weekends and duplicates\n",
        "<p>What happened to Tesla on November 22nd? Since we happen to have the headlines inside our <code>DataFrame</code>, a quick peek reveals that there are a few problems with that particular day: </p>\n",
        "<ul>\n",
        "<li>There are only 5 headlines for that day.</li>\n",
        "<li>Two headlines are verbatim the same as another but from another news outlet.</li>\n",
        "</ul>\n",
        "<p>Let's clean up the dataset a bit, but not too much! While some headlines are the same news piece from different sources, the fact that they are written differently could provide different perspectives on the same story. Plus, when one piece of news is more important, it tends to get more headlines from multiple sources. What we want to get rid of is verbatim copied headlines, as these are very likely coming from the same journalist and are just being \"forwarded\" around, so to speak.</p>"
      ]
    },
    {
      "metadata": {
        "dc": {
          "key": "45"
        },
        "tags": [
          "sample_code"
        ],
        "trusted": true,
        "colab": {
          "base_uri": "https://localhost:8080/",
          "height": 35
        },
        "id": "ESVL1BcTeEwN",
        "outputId": "9d8df5c1-58b6-40da-ea37-e1bc7ecc1862"
      },
      "cell_type": "code",
      "source": [
        "# Count the number of headlines in scored_news (store as integer)\n",
        "num_news_before = scored_news.headline.count()\n",
        "\n",
        "# Drop duplicates based on ticker and headline\n",
        "scored_news_clean = scored_news.drop_duplicates(subset= ['headline', 'ticker'])\n",
        "\n",
        "# Count number of headlines after dropping duplicates\n",
        "num_news_after = scored_news_clean.headline.count()\n",
        "\n",
        "# Print before and after numbers to get an idea of how we did\n",
        "f\"Before we had {num_news_before} headlines, now we have {num_news_after}\""
      ],
      "execution_count": 14,
      "outputs": [
        {
          "output_type": "execute_result",
          "data": {
            "text/plain": [
              "'Before we had 500 headlines, now we have 476'"
            ],
            "application/vnd.google.colaboratory.intrinsic+json": {
              "type": "string"
            }
          },
          "metadata": {},
          "execution_count": 14
        }
      ]
    },
    {
      "metadata": {
        "dc": {
          "key": "52"
        },
        "deletable": false,
        "editable": false,
        "run_control": {
          "frozen": true
        },
        "tags": [
          "context"
        ],
        "id": "xlqb8NK3eEwN"
      },
      "cell_type": "markdown",
      "source": [
        "## 8. Sentiment on one single trading day and stock\n",
        "<p>Just to understand the possibilities of this dataset and get a better feel of the data, let's focus on one trading day and one single stock. We will make an informative plot where we will see the smallest grain possible: headline and subscores.</p>"
      ]
    },
    {
      "metadata": {
        "dc": {
          "key": "52"
        },
        "tags": [
          "sample_code"
        ],
        "trusted": true,
        "colab": {
          "base_uri": "https://localhost:8080/"
        },
        "id": "WqIEsIMQeEwN",
        "outputId": "92a593f6-530f-42b4-d60a-42932c4c31c8"
      },
      "cell_type": "code",
      "source": [
        "import pandas as pd\n",
        "\n",
        "# Assuming 'scored_news_clean' is your DataFrame with the necessary columns\n",
        "# Convert the date column to datetime format\n",
        "scored_news_clean['date'] = pd.to_datetime(scored_news_clean['date'])\n",
        "\n",
        "# Set the index to ticker and date\n",
        "single_day = scored_news_clean.set_index(['ticker', 'date'])\n",
        "\n",
        "# Cross-section the 'fb' row\n",
        "single_day = single_day.xs('fb', level='ticker')\n",
        "\n",
        "# Select the specific date using the correct format\n",
        "date_to_select = pd.Timestamp('2019-01-03')\n",
        "single_day = single_day.loc[date_to_select]\n",
        "\n",
        "# Convert the datetime string to just the time\n",
        "single_day['time'] = pd.to_datetime(single_day['time']).dt.time\n",
        "\n",
        "# Set the index to time\n",
        "single_day = single_day.set_index('time')\n",
        "\n",
        "# Sort the DataFrame by the index\n",
        "single_day = single_day.sort_index()\n",
        "\n",
        "# Print the corrected DataFrame\n",
        "print(single_day)\n"
      ],
      "execution_count": 16,
      "outputs": [
        {
          "output_type": "stream",
          "name": "stdout",
          "text": [
            "                                                   headline    neg    neu  \\\n",
            "time                                                                        \n",
            "06:00:00  Why Internet Censorship Doesnt Work and Never ...  0.000  1.000   \n",
            "08:04:00  3 Big Stock Charts for Thursday: Medtronic, Fa...  0.000  1.000   \n",
            "09:07:00  The Zacks Analyst Blog Highlights: Facebook, W...  0.000  0.846   \n",
            "09:12:00  Why The FAANGs Are Crucial To A 2019 Market Rally  0.000  1.000   \n",
            "09:34:00  Apple warning stoking fears of slowdown in Chi...  0.426  0.574   \n",
            "09:48:00                  Stock Market News For Jan 3, 2019  0.000  1.000   \n",
            "09:58:00                                  Facebook Falls 3%  0.981  0.019   \n",
            "10:08:00  Mark Zuckerberg Halts Stock Sales as Facebook ...  0.000  0.784   \n",
            "10:21:00  Facebook Under Fire for Collecting Data From A...  0.231  0.769   \n",
            "10:42:00  Why Netflix Stock Will Rise Back Above $300 In...  0.000  1.000   \n",
            "12:25:00  3 Great Reasons You Should Be Bullish on Twili...  0.000  0.661   \n",
            "13:31:00           Take the Money And Run From Twilio Stock  0.000  1.000   \n",
            "13:36:00  What's Next For Apple (AAPL) After It Slashed ...  0.147  0.853   \n",
            "15:14:00  Zuckerberg Paused His Selling of Facebook Shar...  0.000  0.662   \n",
            "15:26:00      Is Facebook Stock the Best FANG Stock to Buy?  0.000  0.656   \n",
            "16:10:00  Google Stock Upgraded, Viewed As 'Most Defensi...  0.000  0.878   \n",
            "17:24:00  Facebook (FB) Reportedly Testing Dark Mode on ...  0.000  1.000   \n",
            "17:45:00  Investors Are Focused Too Closely on Facebook ...  0.000  0.652   \n",
            "22:59:00  [$$] Facebook Begins New Year in Fixer-Upper Mode  0.000  1.000   \n",
            "\n",
            "            pos  compound  \n",
            "time                       \n",
            "06:00:00  0.000    0.0000  \n",
            "08:04:00  0.000    0.0000  \n",
            "09:07:00  0.154    0.2500  \n",
            "09:12:00  0.000    0.0000  \n",
            "09:34:00  0.000   -0.6369  \n",
            "09:48:00  0.000    0.0000  \n",
            "09:58:00  0.000   -0.9993  \n",
            "10:08:00  0.216    0.2960  \n",
            "10:21:00  0.000   -0.3400  \n",
            "10:42:00  0.000    0.0000  \n",
            "12:25:00  0.339    0.6249  \n",
            "13:31:00  0.000    0.0000  \n",
            "13:36:00  0.000   -0.2263  \n",
            "15:14:00  0.338    0.6249  \n",
            "15:26:00  0.344    0.6369  \n",
            "16:10:00  0.122    0.1010  \n",
            "17:24:00  0.000    0.0000  \n",
            "17:45:00  0.348    0.5859  \n",
            "22:59:00  0.000    0.0000  \n"
          ]
        },
        {
          "output_type": "stream",
          "name": "stderr",
          "text": [
            "<ipython-input-16-e02c1f16996a>:5: SettingWithCopyWarning: \n",
            "A value is trying to be set on a copy of a slice from a DataFrame.\n",
            "Try using .loc[row_indexer,col_indexer] = value instead\n",
            "\n",
            "See the caveats in the documentation: https://pandas.pydata.org/pandas-docs/stable/user_guide/indexing.html#returning-a-view-versus-a-copy\n",
            "  scored_news_clean['date'] = pd.to_datetime(scored_news_clean['date'])\n"
          ]
        }
      ]
    },
    {
      "metadata": {
        "dc": {
          "key": "59"
        },
        "deletable": false,
        "editable": false,
        "run_control": {
          "frozen": true
        },
        "tags": [
          "context"
        ],
        "id": "J_1qt-sYeEwO"
      },
      "cell_type": "markdown",
      "source": [
        "## 9. Visualize the single day\n",
        "<p>We will make a plot to visualize the positive, negative and neutral scores for a single day of trading and a single stock. This is just one of the many ways to visualize this dataset.</p>"
      ]
    },
    {
      "metadata": {
        "dc": {
          "key": "59"
        },
        "tags": [
          "sample_code"
        ],
        "trusted": true,
        "colab": {
          "base_uri": "https://localhost:8080/",
          "height": 673
        },
        "id": "vpTXkKVHeEwO",
        "outputId": "bb6b77a1-36e6-4a7e-b947-5600a216d8b8"
      },
      "cell_type": "code",
      "source": [
        "import matplotlib.pyplot as plt\n",
        "\n",
        "# Define the title and colors\n",
        "TITLE = \"Negative, neutral, and positive sentiment for FB on 2019-01-03\"\n",
        "COLORS = [\"red\", \"orange\", \"green\"]\n",
        "\n",
        "# Drop the columns that aren't useful for the plot\n",
        "plot_day = single_day.drop(['compound', 'headline'], axis=1)  # Use axis=1 instead of 1\n",
        "\n",
        "# Change the column names to 'negative', 'positive', and 'neutral'\n",
        "plot_day.columns = ['negative', 'neutral', 'positive']\n",
        "\n",
        "# Plot a stacked bar chart\n",
        "plot_day.plot.bar(stacked=True, figsize=(10, 6), title=TITLE, color=COLORS).legend(bbox_to_anchor=(1.2, 0.5))\n",
        "plt.ylabel('scores')\n",
        "plt.show()\n"
      ],
      "execution_count": 18,
      "outputs": [
        {
          "output_type": "display_data",
          "data": {
            "text/plain": [
              "<Figure size 1000x600 with 1 Axes>"
            ],
            "image/png": "[encoded data removed]"
          },
          "metadata": {}
        }
      ]
    }
  ],
  "metadata": {
    "kernelspec": {
      "name": "python3",
      "display_name": "Python 3",
      "language": "python"
    },
    "language_info": {
      "name": "python",
      "version": "3.6.7",
      "mimetype": "text/x-python",
      "codemirror_mode": {
        "name": "ipython",
        "version": 3
      },
      "pygments_lexer": "ipython3",
      "nbconvert_exporter": "python",
      "file_extension": ".py"
    },
    "colab": {
      "provenance": [],
      "include_colab_link": true
    }
  },
  "nbformat": 4,
  "nbformat_minor": 0
}